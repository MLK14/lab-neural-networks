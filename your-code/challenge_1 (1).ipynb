{
  "cells": [
    {
      "cell_type": "markdown",
      "metadata": {
        "id": "Qr7kMcdjgTND"
      },
      "source": [
        "# Challenge 1 - Tic Tac Toe\n",
        "\n",
        "In this lab you will perform deep learning analysis on a dataset of playing [Tic Tac Toe](https://en.wikipedia.org/wiki/Tic-tac-toe).\n",
        "\n",
        "There are 9 grids in Tic Tac Toe that are coded as the following picture shows:\n",
        "\n",
        "![Tic Tac Toe Grids](tttboard.jpg)\n",
        "\n",
        "In the first 9 columns of the dataset you can find which marks (`x` or `o`) exist in the grids. If there is no mark in a certain grid, it is labeled as `b`. The last column is `class` which tells you whether Player X (who always moves first in Tic Tac Toe) wins in this configuration. Note that when `class` has the value `False`, it means either Player O wins the game or it ends up as a draw."
      ]
    },
    {
      "cell_type": "markdown",
      "metadata": {
        "id": "NaZ4bYoogTNI"
      },
      "source": [
        "## Follow the steps suggested below to conduct a neural network analysis using Tensorflow and Keras. You will build a deep learning model to predict whether Player X wins the game or not.\n",
        "\n",
        "## Step 1: Data Engineering\n",
        "\n",
        "This dataset is almost in the ready-to-use state so you do not need to worry about missing values and so on. Still, some simple data engineering is needed.\n",
        "\n",
        "1. Read `tic-tac-toe.csv` into a dataframe.\n",
        "1. Inspect the dataset. Determine if the dataset is reliable by eyeballing the data.\n",
        "1. Convert the categorical values to numeric in all columns.\n",
        "1. Separate the inputs and output.\n",
        "1. Normalize the input data."
      ]
    },
    {
      "cell_type": "code",
      "execution_count": 3,
      "metadata": {},
      "outputs": [
        {
          "name": "stdout",
          "output_type": "stream",
          "text": [
            "Current Working Directory: /Users/amanialshaikh/Desktop/IRONHACK/Week3 /day1/labs\n",
            "File not found! Please check the file name and location.\n",
            "Error: Cannot proceed without the file.\n"
          ]
        }
      ],
      "source": [
        "import os\n",
        "import pandas as pd\n",
        "import glob\n",
        "\n",
        "# Step 1: Check the current working directory\n",
        "print(\"Current Working Directory:\", os.getcwd())\n",
        "\n",
        "# Step 2: Search for the file in the current directory and subdirectories\n",
        "csv_files = glob.glob(\"**/tic-tac-toe.csv\", recursive=True)\n",
        "if csv_files:\n",
        "    print(\"File found at:\", csv_files[0])  # Print the first match\n",
        "    file_path = csv_files[0]\n",
        "else:\n",
        "    print(\"File not found! Please check the file name and location.\")\n",
        "    file_path = None\n",
        "\n",
        "# Step 3: Load the file if found\n",
        "if file_path:\n",
        "    df = pd.read_csv(file_path)\n",
        "    print(df.head())  # Display the first few rows\n",
        "else:\n",
        "    print(\"Error: Cannot proceed without the file.\")\n"
      ]
    },
    {
      "cell_type": "code",
      "execution_count": 7,
      "metadata": {},
      "outputs": [
        {
          "name": "stdout",
          "output_type": "stream",
          "text": [
            "Current Working Directory: /Users/amanialshaikh/Desktop/IRONHACK/Week3 /day1/labs\n",
            "File not found! Please check the file name and location.\n"
          ]
        }
      ],
      "source": [
        "import os\n",
        "import pandas as pd\n",
        "import glob\n",
        "\n",
        "# Check working directory\n",
        "print(\"Current Working Directory:\", os.getcwd())\n",
        "\n",
        "# Search for the CSV file\n",
        "csv_files = glob.glob(\"**/tic-tac-toe.csv\", recursive=True)\n",
        "if csv_files:\n",
        "    print(\"File found at:\", csv_files[0])\n",
        "    file_path = csv_files[0]\n",
        "else:\n",
        "    print(\"File not found! Please check the file name and location.\")\n",
        "    file_path = None\n",
        "\n",
        "# Load the file and check for missing data\n",
        "if file_path:\n",
        "    df = pd.read_csv(file_path)\n",
        "    print(df.head())  # Confirm\n"
      ]
    },
    {
      "cell_type": "code",
      "execution_count": 11,
      "metadata": {
        "colab": {
          "base_uri": "https://localhost:8080/"
        },
        "id": "vMGb4qozkZKU",
        "outputId": "ddc7d440-7d9f-4f4b-de96-25f7eacbdca6"
      },
      "outputs": [
        {
          "name": "stdout",
          "output_type": "stream",
          "text": [
            "Current Working Directory: /Users/amanialshaikh/Desktop/IRONHACK/Week3 /day1/labs\n",
            "File not found! Please check the file name and location.\n"
          ]
        }
      ],
      "source": [
        "\n",
        "import os\n",
        "import pandas as pd\n",
        "import glob\n",
        "\n",
        "# Step 1: Check the current working directory\n",
        "print(\"Current Working Directory:\", os.getcwd())\n",
        "\n",
        "# Step 2: Search for the CSV file in the current directory and subdirectories\n",
        "csv_files = glob.glob(\"**/tic-tac-toe.csv\", recursive=True)\n",
        "\n",
        "if csv_files:\n",
        "    file_path = csv_files[0]  # Use the first found file\n",
        "    print(\"File found at:\", file_path)\n",
        "else:\n",
        "    print(\"File not found! Please check the file name and location.\")\n",
        "    file_path = None\n",
        "\n",
        "# Step 3: Load th\n"
      ]
    },
    {
      "cell_type": "code",
      "execution_count": 13,
      "metadata": {
        "colab": {
          "base_uri": "https://localhost:8080/"
        },
        "id": "NrX6BqvNlWNT",
        "outputId": "77f4cca3-ba28-46cd-c273-cc4f636d74b3"
      },
      "outputs": [
        {
          "name": "stdout",
          "output_type": "stream",
          "text": [
            "Current Working Directory: /Users/amanialshaikh/Desktop/IRONHACK/Week3 /day1/labs\n",
            "File not found! Please check the file name and location.\n",
            "Error: Cannot proceed without the file.\n"
          ]
        }
      ],
      "source": [
        "import os\n",
        "import pandas as pd\n",
        "import glob\n",
        "from sklearn.preprocessing import LabelEncoder\n",
        "\n",
        "# Step 1: Check the current working directory\n",
        "print(\"Current Working Directory:\", os.getcwd())\n",
        "\n",
        "# Step 2: Search for the CSV file\n",
        "csv_files = glob.glob(\"**/tic-tac-toe.csv\", recursive=True)\n",
        "\n",
        "if csv_files:\n",
        "    file_path = csv_files[0]  # Use the first found file\n",
        "    print(\"File found at:\", file_path)\n",
        "else:\n",
        "    print(\"File not found! Please check the file name and location.\")\n",
        "    file_path = None\n",
        "\n",
        "# Step 3: Load the file if found\n",
        "if file_path:\n",
        "    df = pd.read_csv(file_path)\n",
        "    print(\"\\nFirst 5 rows of the dataset:\")\n",
        "    print(df.head())\n",
        "\n",
        "    print(\"\\nColumn Data Types:\")\n",
        "    print(df.dtypes)\n",
        "\n",
        "    # Step 4: Check for missing values\n",
        "    missing_data = df.isnull().sum()\n",
        "    missing_percentage = (missing_data / len(df)) * 100\n",
        "    print(\"\\nMissing Values Per Column:\")\n",
        "    print(missing_data)\n",
        "    print(\"\\nPercentage of Missing Values:\")\n",
        "    print(missing_percentage)\n",
        "\n",
        "    # Step 5: Apply Label Encoding to categorical columns\n",
        "    label_encoder = LabelEncoder()\n",
        "    for column in df.select_dtypes(include=['object']).columns:\n",
        "        df[column] = label_encoder.fit_transform(df[column])\n",
        "\n",
        "    print(\"\\nEncoded DataFrame:\")\n",
        "    print(df.head())\n",
        "\n",
        "else:\n",
        "    print(\"Error: Cannot proceed without the file.\")\n"
      ]
    },
    {
      "cell_type": "code",
      "execution_count": 15,
      "metadata": {
        "colab": {
          "base_uri": "https://localhost:8080/"
        },
        "id": "v6ojsDJlmEWv",
        "outputId": "70c1e42a-2f59-4e8e-f486-8a5092054e0b"
      },
      "outputs": [
        {
          "name": "stdout",
          "output_type": "stream",
          "text": [
            "Current Directory: /Users/amanialshaikh/Desktop/IRONHACK/Week3 /day1/labs\n"
          ]
        }
      ],
      "source": [
        "import os\n",
        "print(\"Current Directory:\", os.getcwd())\n"
      ]
    },
    {
      "cell_type": "code",
      "execution_count": 17,
      "metadata": {},
      "outputs": [
        {
          "name": "stdout",
          "output_type": "stream",
          "text": [
            "Current Working Directory: /Users/amanialshaikh/Desktop/IRONHACK/Week3 /day1/labs\n",
            "File not found! Please check the file name and location.\n",
            "Error: Cannot proceed without the file.\n"
          ]
        }
      ],
      "source": [
        "import os\n",
        "import pandas as pd\n",
        "import glob\n",
        "from sklearn.preprocessing import LabelEncoder\n",
        "\n",
        "# Step 1: Check the current working directory\n",
        "print(\"Current Working Directory:\", os.getcwd())\n",
        "\n",
        "# Step 2: Search for the CSV file\n",
        "csv_files = glob.glob(\"**/tic-tac-toe.csv\", recursive=True)\n",
        "\n",
        "if csv_files:\n",
        "    file_path = csv_files[0]  # Use the first found file\n",
        "    print(\"File found at:\", file_path)\n",
        "else:\n",
        "    print(\"File not found! Please check the file name and location.\")\n",
        "    file_path = None\n",
        "\n",
        "# Step 3: Load the file if found\n",
        "if file_path:\n",
        "    df = pd.read_csv(file_path)\n",
        "    print(\"\\nFirst 5 rows of the dataset:\")\n",
        "    print(df.head())\n",
        "\n",
        "    print(\"\\nColumn Data Types:\")\n",
        "    print(df.dtypes)  # Print column data types\n",
        "\n",
        "    # Step 4: Check for missing values\n",
        "    missing_data = df.isnull().sum()\n",
        "    missing_percentage = (missing_data / len(df)) * 100\n",
        "    print(\"\\nMissing Values Per Column:\")\n",
        "    print(missing_data)\n",
        "    print(\"\\nPercentage of Missing Values:\")\n",
        "    print(missing_percentage)\n",
        "\n",
        "    # Step 5: Apply Label Encoding to categorical columns\n",
        "    label_encoder = LabelEncoder()\n",
        "    for column in df.select_dtypes(include=['object']).columns:\n",
        "        df[column] = label_encoder.fit_transform(df[column])\n",
        "\n",
        "    print(\"\\nEncoded DataFrame:\")\n",
        "    print(df.head())\n",
        "\n",
        "    # Step 6: Split into Features (X) and Labels (y)\n",
        "    if 'class' in df.columns:  # Ensure 'class' column exists\n",
        "        X = df.drop('class', axis=1)\n",
        "        y = df['class']\n",
        "\n",
        "        print(\"\\nFeatures (X):\")\n",
        "        print(X.head())\n",
        "\n",
        "        print(\"\\nLabels (y):\")\n",
        "        print(y.head())\n",
        "    else:\n",
        "        print(\"\\nError: 'class' column not found in dataset!\")\n",
        "\n",
        "else:\n",
        "    print(\"Error: Cannot proceed without the file.\")\n"
      ]
    },
    {
      "cell_type": "code",
      "execution_count": 21,
      "metadata": {
        "colab": {
          "base_uri": "https://localhost:8080/"
        },
        "id": "iu7pkBBCmIUl",
        "outputId": "c647a366-0094-4b32-a662-a55a21a7f982"
      },
      "outputs": [
        {
          "ename": "NameError",
          "evalue": "name 'df' is not defined",
          "output_type": "error",
          "traceback": [
            "\u001b[0;31m---------------------------------------------------------------------------\u001b[0m",
            "\u001b[0;31mNameError\u001b[0m                                 Traceback (most recent call last)",
            "Cell \u001b[0;32mIn[21], line 1\u001b[0m\n\u001b[0;32m----> 1\u001b[0m X \u001b[38;5;241m=\u001b[39m \u001b[43mdf\u001b[49m\u001b[38;5;241m.\u001b[39mdrop(\u001b[38;5;124m'\u001b[39m\u001b[38;5;124mclass\u001b[39m\u001b[38;5;124m'\u001b[39m, axis\u001b[38;5;241m=\u001b[39m\u001b[38;5;241m1\u001b[39m)  \u001b[38;5;66;03m# 'target_column' is the name of the output column\u001b[39;00m\n\u001b[1;32m      2\u001b[0m y \u001b[38;5;241m=\u001b[39m df[\u001b[38;5;124m'\u001b[39m\u001b[38;5;124mclass\u001b[39m\u001b[38;5;124m'\u001b[39m]  \u001b[38;5;66;03m# 'target_column' is the name of the output column\u001b[39;00m\n\u001b[1;32m      4\u001b[0m \u001b[38;5;66;03m# Now X contains the inputs, and y contains the output\u001b[39;00m\n",
            "\u001b[0;31mNameError\u001b[0m: name 'df' is not defined"
          ]
        }
      ],
      "source": [
        "X = df.drop('class', axis=1)  # 'target_column' is the name of the output column\n",
        "y = df['class']  # 'target_column' is the name of the output column\n",
        "\n",
        "# Now X contains the inputs, and y contains the output\n",
        "print(\"Features (X):\")\n",
        "print(X.head())\n",
        "\n",
        "print(\"Labels (y):\")\n",
        "print(y.head())"
      ]
    },
    {
      "cell_type": "code",
      "execution_count": 22,
      "metadata": {
        "colab": {
          "base_uri": "https://localhost:8080/"
        },
        "id": "S_YU2u8Vpdml",
        "outputId": "64643f7f-91dd-49e7-ee54-932c90b083bc"
      },
      "outputs": [
        {
          "ename": "NameError",
          "evalue": "name 'X' is not defined",
          "output_type": "error",
          "traceback": [
            "\u001b[0;31m---------------------------------------------------------------------------\u001b[0m",
            "\u001b[0;31mNameError\u001b[0m                                 Traceback (most recent call last)",
            "Cell \u001b[0;32mIn[22], line 5\u001b[0m\n\u001b[1;32m      2\u001b[0m scaler \u001b[38;5;241m=\u001b[39m MinMaxScaler()\n\u001b[1;32m      4\u001b[0m \u001b[38;5;66;03m# Fit the scaler to the data and transform it\u001b[39;00m\n\u001b[0;32m----> 5\u001b[0m X_normalized \u001b[38;5;241m=\u001b[39m scaler\u001b[38;5;241m.\u001b[39mfit_transform(\u001b[43mX\u001b[49m)\n\u001b[1;32m      7\u001b[0m \u001b[38;5;66;03m# Convert the result back into a DataFrame (optional)\u001b[39;00m\n\u001b[1;32m      8\u001b[0m X_normalized_df \u001b[38;5;241m=\u001b[39m pd\u001b[38;5;241m.\u001b[39mDataFrame(X_normalized, columns\u001b[38;5;241m=\u001b[39mX\u001b[38;5;241m.\u001b[39mcolumns)\n",
            "\u001b[0;31mNameError\u001b[0m: name 'X' is not defined"
          ]
        }
      ],
      "source": [
        "from sklearn.preprocessing import MinMaxScaler\n",
        "scaler = MinMaxScaler()\n",
        "\n",
        "# Fit the scaler to the data and transform it\n",
        "X_normalized = scaler.fit_transform(X)\n",
        "\n",
        "# Convert the result back into a DataFrame (optional)\n",
        "X_normalized_df = pd.DataFrame(X_normalized, columns=X.columns)\n",
        "\n",
        "y_encoded = pd.get_dummies(y)\n",
        "# Show the normalized data\n",
        "print(X_normalized_df.head())"
      ]
    },
    {
      "cell_type": "markdown",
      "metadata": {
        "id": "fN7GOgAIgTNO"
      },
      "source": [
        "## Step 2: Build Neural Network\n",
        "\n",
        "To build the neural network, you can refer to your own codes you wrote while following the [Deep Learning with Python, TensorFlow, and Keras tutorial](https://www.youtube.com/watch?v=wQ8BIBpya2k) in the lesson. It's pretty similar to what you will be doing in this lab.\n",
        "\n",
        "1. Split the training and test data.\n",
        "1. Create a `Sequential` model.\n",
        "1. Add several layers to your model. Make sure you use ReLU as the activation function for the middle layers. Use Softmax for the output layer because each output has a single lable and all the label probabilities add up to 1.\n",
        "1. Compile the model using `adam` as the optimizer and `sparse_categorical_crossentropy` as the loss function. For metrics, use `accuracy` for now.\n",
        "1. Fit the training data.\n",
        "1. Evaluate your neural network model with the test data.\n",
        "1. Save your model as `tic-tac-toe.model`."
      ]
    },
    {
      "cell_type": "code",
      "execution_count": 23,
      "metadata": {
        "id": "MkZmX8AwgTNP"
      },
      "outputs": [
        {
          "ename": "NameError",
          "evalue": "name 'X_normalized' is not defined",
          "output_type": "error",
          "traceback": [
            "\u001b[0;31m---------------------------------------------------------------------------\u001b[0m",
            "\u001b[0;31mNameError\u001b[0m                                 Traceback (most recent call last)",
            "Cell \u001b[0;32mIn[23], line 3\u001b[0m\n\u001b[1;32m      1\u001b[0m \u001b[38;5;66;03m# your code here\u001b[39;00m\n\u001b[1;32m      2\u001b[0m \u001b[38;5;28;01mfrom\u001b[39;00m\u001b[38;5;250m \u001b[39m\u001b[38;5;21;01msklearn\u001b[39;00m\u001b[38;5;21;01m.\u001b[39;00m\u001b[38;5;21;01mmodel_selection\u001b[39;00m\u001b[38;5;250m \u001b[39m\u001b[38;5;28;01mimport\u001b[39;00m train_test_split\n\u001b[0;32m----> 3\u001b[0m X_train, X_test, y_train, y_test \u001b[38;5;241m=\u001b[39m train_test_split(\u001b[43mX_normalized\u001b[49m, y_encoded, test_size\u001b[38;5;241m=\u001b[39m\u001b[38;5;241m0.2\u001b[39m, random_state\u001b[38;5;241m=\u001b[39m\u001b[38;5;241m42\u001b[39m)\n",
            "\u001b[0;31mNameError\u001b[0m: name 'X_normalized' is not defined"
          ]
        }
      ],
      "source": [
        "# your code here\n",
        "from sklearn.model_selection import train_test_split\n",
        "X_train, X_test, y_train, y_test = train_test_split(X_normalized, y_encoded, test_size=0.2, random_state=42)"
      ]
    },
    {
      "cell_type": "code",
      "execution_count": 24,
      "metadata": {
        "colab": {
          "base_uri": "https://localhost:8080/"
        },
        "id": "mz2uh8GRt_KE",
        "outputId": "f28185f2-9c99-4442-e035-6dfaee933a44"
      },
      "outputs": [
        {
          "name": "stdout",
          "output_type": "stream",
          "text": [
            "Defaulting to user installation because normal site-packages is not writeable\n",
            "Requirement already satisfied: tensorflow in /Users/amanialshaikh/Library/Python/3.9/lib/python/site-packages (2.18.0)\n",
            "Requirement already satisfied: libclang>=13.0.0 in /Users/amanialshaikh/Library/Python/3.9/lib/python/site-packages (from tensorflow) (18.1.1)\n",
            "Requirement already satisfied: termcolor>=1.1.0 in /Users/amanialshaikh/Library/Python/3.9/lib/python/site-packages (from tensorflow) (2.5.0)\n",
            "Requirement already satisfied: h5py>=3.11.0 in /Users/amanialshaikh/Library/Python/3.9/lib/python/site-packages (from tensorflow) (3.13.0)\n",
            "Requirement already satisfied: gast!=0.5.0,!=0.5.1,!=0.5.2,>=0.2.1 in /Users/amanialshaikh/Library/Python/3.9/lib/python/site-packages (from tensorflow) (0.6.0)\n",
            "Requirement already satisfied: setuptools in /Library/Developer/CommandLineTools/Library/Frameworks/Python3.framework/Versions/3.9/lib/python3.9/site-packages (from tensorflow) (58.0.4)\n",
            "Requirement already satisfied: grpcio<2.0,>=1.24.3 in /Users/amanialshaikh/Library/Python/3.9/lib/python/site-packages (from tensorflow) (1.70.0)\n",
            "Requirement already satisfied: tensorflow-io-gcs-filesystem>=0.23.1 in /Users/amanialshaikh/Library/Python/3.9/lib/python/site-packages (from tensorflow) (0.37.1)\n",
            "Requirement already satisfied: ml-dtypes<0.5.0,>=0.4.0 in /Users/amanialshaikh/Library/Python/3.9/lib/python/site-packages (from tensorflow) (0.4.1)\n",
            "Requirement already satisfied: wrapt>=1.11.0 in /Users/amanialshaikh/Library/Python/3.9/lib/python/site-packages (from tensorflow) (1.17.2)\n",
            "Requirement already satisfied: protobuf!=4.21.0,!=4.21.1,!=4.21.2,!=4.21.3,!=4.21.4,!=4.21.5,<6.0.0dev,>=3.20.3 in /Users/amanialshaikh/Library/Python/3.9/lib/python/site-packages (from tensorflow) (5.29.3)\n",
            "Requirement already satisfied: astunparse>=1.6.0 in /Users/amanialshaikh/Library/Python/3.9/lib/python/site-packages (from tensorflow) (1.6.3)\n",
            "Requirement already satisfied: opt-einsum>=2.3.2 in /Users/amanialshaikh/Library/Python/3.9/lib/python/site-packages (from tensorflow) (3.4.0)\n",
            "Requirement already satisfied: keras>=3.5.0 in /Users/amanialshaikh/Library/Python/3.9/lib/python/site-packages (from tensorflow) (3.8.0)\n",
            "Requirement already satisfied: google-pasta>=0.1.1 in /Users/amanialshaikh/Library/Python/3.9/lib/python/site-packages (from tensorflow) (0.2.0)\n",
            "Requirement already satisfied: packaging in /Users/amanialshaikh/Library/Python/3.9/lib/python/site-packages (from tensorflow) (24.2)\n",
            "Requirement already satisfied: typing-extensions>=3.6.6 in /Users/amanialshaikh/Library/Python/3.9/lib/python/site-packages (from tensorflow) (4.12.2)\n",
            "Requirement already satisfied: tensorboard<2.19,>=2.18 in /Users/amanialshaikh/Library/Python/3.9/lib/python/site-packages (from tensorflow) (2.18.0)\n",
            "Requirement already satisfied: absl-py>=1.0.0 in /Users/amanialshaikh/Library/Python/3.9/lib/python/site-packages (from tensorflow) (2.1.0)\n",
            "Requirement already satisfied: flatbuffers>=24.3.25 in /Users/amanialshaikh/Library/Python/3.9/lib/python/site-packages (from tensorflow) (25.2.10)\n",
            "Requirement already satisfied: requests<3,>=2.21.0 in /Users/amanialshaikh/Library/Python/3.9/lib/python/site-packages (from tensorflow) (2.32.3)\n",
            "Requirement already satisfied: six>=1.12.0 in /Library/Developer/CommandLineTools/Library/Frameworks/Python3.framework/Versions/3.9/lib/python3.9/site-packages (from tensorflow) (1.15.0)\n",
            "Requirement already satisfied: numpy<2.1.0,>=1.26.0 in /Users/amanialshaikh/Library/Python/3.9/lib/python/site-packages (from tensorflow) (2.0.2)\n",
            "Requirement already satisfied: wheel<1.0,>=0.23.0 in /Library/Developer/CommandLineTools/Library/Frameworks/Python3.framework/Versions/3.9/lib/python3.9/site-packages (from astunparse>=1.6.0->tensorflow) (0.37.0)\n",
            "Requirement already satisfied: rich in /Users/amanialshaikh/Library/Python/3.9/lib/python/site-packages (from keras>=3.5.0->tensorflow) (13.9.4)\n",
            "Requirement already satisfied: optree in /Users/amanialshaikh/Library/Python/3.9/lib/python/site-packages (from keras>=3.5.0->tensorflow) (0.14.1)\n",
            "Requirement already satisfied: namex in /Users/amanialshaikh/Library/Python/3.9/lib/python/site-packages (from keras>=3.5.0->tensorflow) (0.0.8)\n",
            "Requirement already satisfied: urllib3<3,>=1.21.1 in /Users/amanialshaikh/Library/Python/3.9/lib/python/site-packages (from requests<3,>=2.21.0->tensorflow) (2.3.0)\n",
            "Requirement already satisfied: idna<4,>=2.5 in /Users/amanialshaikh/Library/Python/3.9/lib/python/site-packages (from requests<3,>=2.21.0->tensorflow) (3.10)\n",
            "Requirement already satisfied: certifi>=2017.4.17 in /Users/amanialshaikh/Library/Python/3.9/lib/python/site-packages (from requests<3,>=2.21.0->tensorflow) (2025.1.31)\n",
            "Requirement already satisfied: charset-normalizer<4,>=2 in /Users/amanialshaikh/Library/Python/3.9/lib/python/site-packages (from requests<3,>=2.21.0->tensorflow) (3.4.1)\n",
            "Requirement already satisfied: markdown>=2.6.8 in /Users/amanialshaikh/Library/Python/3.9/lib/python/site-packages (from tensorboard<2.19,>=2.18->tensorflow) (3.7)\n",
            "Requirement already satisfied: werkzeug>=1.0.1 in /Users/amanialshaikh/Library/Python/3.9/lib/python/site-packages (from tensorboard<2.19,>=2.18->tensorflow) (3.1.3)\n",
            "Requirement already satisfied: tensorboard-data-server<0.8.0,>=0.7.0 in /Users/amanialshaikh/Library/Python/3.9/lib/python/site-packages (from tensorboard<2.19,>=2.18->tensorflow) (0.7.2)\n",
            "Requirement already satisfied: importlib-metadata>=4.4 in /Users/amanialshaikh/Library/Python/3.9/lib/python/site-packages (from markdown>=2.6.8->tensorboard<2.19,>=2.18->tensorflow) (8.6.1)\n",
            "Requirement already satisfied: zipp>=3.20 in /Users/amanialshaikh/Library/Python/3.9/lib/python/site-packages (from importlib-metadata>=4.4->markdown>=2.6.8->tensorboard<2.19,>=2.18->tensorflow) (3.21.0)\n",
            "Requirement already satisfied: MarkupSafe>=2.1.1 in /Users/amanialshaikh/Library/Python/3.9/lib/python/site-packages (from werkzeug>=1.0.1->tensorboard<2.19,>=2.18->tensorflow) (3.0.2)\n",
            "Requirement already satisfied: markdown-it-py>=2.2.0 in /Users/amanialshaikh/Library/Python/3.9/lib/python/site-packages (from rich->keras>=3.5.0->tensorflow) (3.0.0)\n",
            "Requirement already satisfied: pygments<3.0.0,>=2.13.0 in /Users/amanialshaikh/Library/Python/3.9/lib/python/site-packages (from rich->keras>=3.5.0->tensorflow) (2.19.1)\n",
            "Requirement already satisfied: mdurl~=0.1 in /Users/amanialshaikh/Library/Python/3.9/lib/python/site-packages (from markdown-it-py>=2.2.0->rich->keras>=3.5.0->tensorflow) (0.1.2)\n",
            "\u001b[33mWARNING: You are using pip version 21.2.4; however, version 25.0.1 is available.\n",
            "You should consider upgrading via the '/Library/Developer/CommandLineTools/usr/bin/python3 -m pip install --upgrade pip' command.\u001b[0m\n",
            "Note: you may need to restart the kernel to use updated packages.\n"
          ]
        }
      ],
      "source": [
        "pip install tensorflow"
      ]
    },
    {
      "cell_type": "code",
      "execution_count": 25,
      "metadata": {
        "id": "hT9xcSg1rgc9"
      },
      "outputs": [
        {
          "name": "stderr",
          "output_type": "stream",
          "text": [
            "/Users/amanialshaikh/Library/Python/3.9/lib/python/site-packages/urllib3/__init__.py:35: NotOpenSSLWarning: urllib3 v2 only supports OpenSSL 1.1.1+, currently the 'ssl' module is compiled with 'LibreSSL 2.8.3'. See: https://github.com/urllib3/urllib3/issues/3020\n",
            "  warnings.warn(\n"
          ]
        }
      ],
      "source": [
        "from tensorflow.keras.models import Sequential\n",
        "model = Sequential()"
      ]
    },
    {
      "cell_type": "code",
      "execution_count": 26,
      "metadata": {
        "colab": {
          "base_uri": "https://localhost:8080/"
        },
        "id": "oydCI5GNuXZR",
        "outputId": "8b8ae796-8556-47e3-87ba-977210000d0e"
      },
      "outputs": [
        {
          "ename": "NameError",
          "evalue": "name 'X_train' is not defined",
          "output_type": "error",
          "traceback": [
            "\u001b[0;31m---------------------------------------------------------------------------\u001b[0m",
            "\u001b[0;31mNameError\u001b[0m                                 Traceback (most recent call last)",
            "Cell \u001b[0;32mIn[26], line 2\u001b[0m\n\u001b[1;32m      1\u001b[0m \u001b[38;5;28;01mfrom\u001b[39;00m\u001b[38;5;250m \u001b[39m\u001b[38;5;21;01mtensorflow\u001b[39;00m\u001b[38;5;21;01m.\u001b[39;00m\u001b[38;5;21;01mkeras\u001b[39;00m\u001b[38;5;21;01m.\u001b[39;00m\u001b[38;5;21;01mlayers\u001b[39;00m\u001b[38;5;250m \u001b[39m\u001b[38;5;28;01mimport\u001b[39;00m Dense\n\u001b[0;32m----> 2\u001b[0m model\u001b[38;5;241m.\u001b[39madd(Dense(\u001b[38;5;241m128\u001b[39m, input_dim\u001b[38;5;241m=\u001b[39m\u001b[43mX_train\u001b[49m\u001b[38;5;241m.\u001b[39mshape[\u001b[38;5;241m1\u001b[39m], activation\u001b[38;5;241m=\u001b[39m\u001b[38;5;124m'\u001b[39m\u001b[38;5;124mrelu\u001b[39m\u001b[38;5;124m'\u001b[39m))\n\u001b[1;32m      4\u001b[0m \u001b[38;5;66;03m# Add the second hidden layer with 64 neurons and ReLU activation\u001b[39;00m\n\u001b[1;32m      5\u001b[0m model\u001b[38;5;241m.\u001b[39madd(Dense(\u001b[38;5;241m64\u001b[39m, activation\u001b[38;5;241m=\u001b[39m\u001b[38;5;124m'\u001b[39m\u001b[38;5;124mrelu\u001b[39m\u001b[38;5;124m'\u001b[39m))\n",
            "\u001b[0;31mNameError\u001b[0m: name 'X_train' is not defined"
          ]
        }
      ],
      "source": [
        "from tensorflow.keras.layers import Dense\n",
        "model.add(Dense(128, input_dim=X_train.shape[1], activation='relu'))\n",
        "\n",
        "# Add the second hidden layer with 64 neurons and ReLU activation\n",
        "model.add(Dense(64, activation='relu'))\n",
        "\n",
        "# Add the third hidden layer with 32 neurons and ReLU activation\n",
        "model.add(Dense(32, activation='relu'))\n",
        "\n",
        "# Add the output layer with as many neurons as unique classes in the target variable\n",
        "model.add(Dense(y_encoded.shape[1],activation='softmax'))"
      ]
    },
    {
      "cell_type": "code",
      "execution_count": null,
      "metadata": {
        "colab": {
          "base_uri": "https://localhost:8080/"
        },
        "id": "NmsCsJ9Dx1KD",
        "outputId": "0369c532-b684-4b19-eb2b-90edbb24f122"
      },
      "outputs": [],
      "source": [
        "\n",
        "from sklearn.metrics import accuracy_score\n",
        "import numpy as np\n",
        "model.compile(optimizer='adam', loss='categorical_crossentropy', metrics=['accuracy'])\n",
        "\n",
        "# Train the model\n",
        "model.fit(X_train, y_train, epochs=20, batch_size=10, verbose=1)\n",
        "\n",
        "# Evaluate the model\n",
        "loss, accuracy = model.evaluate(X_test, y_test)\n",
        "print(f\"Test Loss: {loss}\")\n",
        "print(f\"Test Accuracy: {accuracy}\")\n",
        "\n",
        "# Make predictions on the test data\n",
        "y_pred = model.predict(X_test)\n",
        "\n",
        "# Convert predictions to class labels\n",
        "y_pred_classes = np.argmax(y_pred, axis=1)\n",
        "y_true_classes = np.argmax(y_test.to_numpy(), axis=1)\n",
        "\n",
        "# Calculate the accuracy score\n",
        "accuracy = accuracy_score(y_true_classes, y_pred_classes)\n",
        "print(f\"Accuracy Score: {accuracy}\")"
      ]
    },
    {
      "cell_type": "code",
      "execution_count": 27,
      "metadata": {
        "colab": {
          "base_uri": "https://localhost:8080/"
        },
        "id": "wmlZEnHz0XcM",
        "outputId": "9d472a37-e193-4039-9264-3b8e47738dca"
      },
      "outputs": [
        {
          "data": {
            "text/plain": [
              "['tic-tac-toe.model']"
            ]
          },
          "execution_count": 27,
          "metadata": {},
          "output_type": "execute_result"
        }
      ],
      "source": [
        "import joblib\n",
        "joblib.dump(model, 'tic-tac-toe.model')"
      ]
    },
    {
      "cell_type": "markdown",
      "metadata": {
        "id": "emUGEs9zgTNQ"
      },
      "source": [
        "## Step 3: Make Predictions\n",
        "\n",
        "Now load your saved model and use it to make predictions on a few random rows in the test dataset. Check if the predictions are correct."
      ]
    },
    {
      "cell_type": "code",
      "execution_count": 28,
      "metadata": {
        "id": "3VSBYT60gTNR"
      },
      "outputs": [],
      "source": [
        "# your code here\n",
        "import joblib\n",
        "model = joblib.load('tic-tac-toe.model')"
      ]
    },
    {
      "cell_type": "code",
      "execution_count": 29,
      "metadata": {
        "colab": {
          "base_uri": "https://localhost:8080/"
        },
        "id": "6AzELlq82S-W",
        "outputId": "c1d6e673-6fd4-4a5c-9ebc-14d786b1a6c5"
      },
      "outputs": [
        {
          "ename": "NameError",
          "evalue": "name 'X_test' is not defined",
          "output_type": "error",
          "traceback": [
            "\u001b[0;31m---------------------------------------------------------------------------\u001b[0m",
            "\u001b[0;31mNameError\u001b[0m                                 Traceback (most recent call last)",
            "Cell \u001b[0;32mIn[29], line 1\u001b[0m\n\u001b[0;32m----> 1\u001b[0m \u001b[38;5;28mprint\u001b[39m(\u001b[38;5;124mf\u001b[39m\u001b[38;5;124m\"\u001b[39m\u001b[38;5;124mX_test type: \u001b[39m\u001b[38;5;132;01m{\u001b[39;00m\u001b[38;5;28mtype\u001b[39m(X_test)\u001b[38;5;132;01m}\u001b[39;00m\u001b[38;5;124m\"\u001b[39m)\n\u001b[1;32m      2\u001b[0m \u001b[38;5;28mprint\u001b[39m(\u001b[38;5;124mf\u001b[39m\u001b[38;5;124m\"\u001b[39m\u001b[38;5;124my_test type: \u001b[39m\u001b[38;5;132;01m{\u001b[39;00m\u001b[38;5;28mtype\u001b[39m(y_test)\u001b[38;5;132;01m}\u001b[39;00m\u001b[38;5;124m\"\u001b[39m)\n\u001b[1;32m      4\u001b[0m \u001b[38;5;66;03m# Ensure the indices are valid for X_test and y_test\u001b[39;00m\n",
            "\u001b[0;31mNameError\u001b[0m: name 'X_test' is not defined"
          ]
        }
      ],
      "source": [
        "print(f\"X_test type: {type(X_test)}\")\n",
        "print(f\"y_test type: {type(y_test)}\")\n",
        "\n",
        "# Ensure the indices are valid for X_test and y_test\n",
        "random_indices = np.random.choice(X_test.shape[0], size=5, replace=False)  # Select 5 random rows\n",
        "print(\"Random indices selected:\", random_indices)\n",
        "\n",
        "# Extract the corresponding rows\n",
        "X_random = X_test[random_indices]\n",
        "\n",
        "# If y_test is a DataFrame, use .iloc[] for row-based indexing\n",
        "# Alternatively, convert y_test to a numpy array to avoid issues\n",
        "y_random = y_test.iloc[random_indices].to_numpy()  # Convert to numpy array for consistency\n",
        "\n",
        "# Make predictions on the random rows\n",
        "y_pred = model.predict(X_random)\n",
        "\n",
        "# Output the predicted classes and the corresponding true labels\n",
        "for i in range(len(random_indices)):\n",
        "    predicted_class = np.argmax(y_pred[i])  # Convert prediction probabilities to the class with max probability\n",
        "    true_class = np.argmax(y_random[i])  # True class for the random row\n",
        "    print(f\"Prediction for row {random_indices[i]}: {predicted_class}, True label: {true_class}\")\n"
      ]
    },
    {
      "cell_type": "markdown",
      "metadata": {
        "id": "NtnG4ddZgTNS"
      },
      "source": [
        "## Step 4: Improve Your Model\n",
        "\n",
        "Did your model achieve low loss (<0.1) and high accuracy (>0.95)? If not, try to improve your model.\n",
        "\n",
        "But how? There are so many things you can play with in Tensorflow and in the next challenge you'll learn about these things. But in this challenge, let's just do a few things to see if they will help.\n",
        "\n",
        "* Add more layers to your model. If the data are complex you need more layers. But don't use more layers than you need. If adding more layers does not improve the model performance you don't need additional layers.\n",
        "* Adjust the learning rate when you compile the model. This means you will create a custom `tf.keras.optimizers.Adam` instance where you specify the learning rate you want. Then pass the instance to `model.compile` as the optimizer.\n",
        "    * `tf.keras.optimizers.Adam` [reference](https://www.tensorflow.org/api_docs/python/tf/keras/optimizers/Adam).\n",
        "    * Don't worry if you don't understand what the learning rate does. You'll learn about it in the next challenge.\n",
        "* Adjust the number of epochs when you fit the training data to the model. Your model performance continues to improve as you train more epochs. But eventually it will reach the ceiling and the performance will stay the same."
      ]
    },
    {
      "cell_type": "code",
      "execution_count": null,
      "metadata": {
        "colab": {
          "base_uri": "https://localhost:8080/"
        },
        "id": "JRaJVTingTNT",
        "outputId": "dad94b58-051c-47be-a796-f8c63646fb9e"
      },
      "outputs": [],
      "source": [
        "# your code here\n",
        "# add  more layers:\n",
        "from tensorflow import keras\n",
        "from tensorflow.keras import layers\n",
        "model = keras.Sequential([\n",
        "    layers.Dense(64, activation='relu', input_shape=(9,)),  # Input layer\n",
        "    layers.Dense(128, activation='relu'),  # Added hidden layer\n",
        "    layers.Dense(64, activation='relu'),   # Another hidden layer\n",
        "    layers.Dense(1, activation='sigmoid')  # Output layer (for binary classification)\n",
        "])"
      ]
    },
    {
      "cell_type": "code",
      "execution_count": null,
      "metadata": {
        "id": "Dl1UHbKuJAyN"
      },
      "outputs": [],
      "source": [
        "#Adjust the Learning Rate:\n",
        "import tensorflow as tf\n",
        "learning_rate = 0.001  # You can experiment with different values\n",
        "optimizer = tf.keras.optimizers.Adam(learning_rate=learning_rate)\n",
        "\n",
        "# Compile the model\n",
        "model.compile(optimizer=optimizer,\n",
        "              loss='binary_crossentropy',  # Use categorical_crossentropy for multi-class\n",
        "              metrics=['accuracy'])"
      ]
    },
    {
      "cell_type": "code",
      "execution_count": null,
      "metadata": {},
      "outputs": [],
      "source": [
        "git add .\n",
        "git commit -m \"إض"
      ]
    },
    {
      "cell_type": "code",
      "execution_count": null,
      "metadata": {
        "colab": {
          "base_uri": "https://localhost:8080/"
        },
        "id": "BKOfdqHTRPID",
        "outputId": "d25b3282-12aa-4967-f75c-2f9f15c4a7d6"
      },
      "outputs": [],
      "source": [
        "#Train for More Epochs\n",
        "X_train, X_val, y_train, y_val = train_test_split(X, y, test_size=0.2, random_state=42)\n",
        "history = model.fit(X_train, y_train, epochs=50, validation_data=(X_val, y_val))"
      ]
    },
    {
      "cell_type": "markdown",
      "metadata": {
        "id": "JWITKhTVgTNT"
      },
      "source": [
        "**Which approach(es) did you find helpful to improve your model performance?**"
      ]
    },
    {
      "cell_type": "code",
      "execution_count": null,
      "metadata": {
        "id": "HY3I_hU5gTNU"
      },
      "outputs": [],
      "source": [
        "# your answer here\n",
        "#adding more layers was helpful to improve my model performance"
      ]
    }
  ],
  "metadata": {
    "colab": {
      "provenance": []
    },
    "kernelspec": {
      "display_name": "Python 3",
      "language": "python",
      "name": "python3"
    },
    "language_info": {
      "codemirror_mode": {
        "name": "ipython",
        "version": 3
      },
      "file_extension": ".py",
      "mimetype": "text/x-python",
      "name": "python",
      "nbconvert_exporter": "python",
      "pygments_lexer": "ipython3",
      "version": "3.9.6"
    }
  },
  "nbformat": 4,
  "nbformat_minor": 0
}
